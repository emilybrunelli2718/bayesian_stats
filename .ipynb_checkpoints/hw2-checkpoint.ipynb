{
 "cells": [
  {
   "cell_type": "markdown",
   "metadata": {},
   "source": [
    "**PROBLEM 1**\n",
    "\n",
    "1) Propose a conjugate normal prior for this problem. \n",
    "\n",
    "$\\mu \\sim N(40, \\sigma_0^2 = 1.041)$, or alternatively $N(40, \\tau_0 = 0.9604)$ if writing in terms of precision. \n",
    "\n",
    "We already know that the snowfall is centered around 40 inches per year. \n",
    "Variance is $(\\frac{4}{2\\cdot1.96})^2 = 1.041$\n",
    "\n",
    "\n",
    "2) What would the posterior distribution be in such case? What can you comment about the posterior mean, an the relative contribution of prior and data to the posterior expectation?\n",
    "\n",
    "$N(40.5868, \\sigma^2 = 0.92558)$\n",
    "\n",
    "The posterior mean is higher than the prior mean, which makes sense because the average of the snowfall data is 45.3. However, this isn't a huge change from 40, the prior has a higher relative contribution to the mean than the data does. "
   ]
  },
  {
   "cell_type": "code",
   "execution_count": 2,
   "metadata": {},
   "outputs": [],
   "source": [
    "library(MASS)"
   ]
  },
  {
   "cell_type": "code",
   "execution_count": 8,
   "metadata": {},
   "outputs": [],
   "source": [
    "snowfall = c(38.6, 42.4, 57.5, 40.5, 51.7, 67.1, 33.4, 60.9, 64.1, 40.1, 40.7, 6.4)"
   ]
  },
  {
   "cell_type": "code",
   "execution_count": 10,
   "metadata": {},
   "outputs": [
    {
     "data": {
      "image/png": "[encoded data removed]",
      "text/plain": [
       "Plot with title \"Histogram of snowfall\""
      ]
     },
     "metadata": {
      "image/png": {
       "height": 420,
       "width": 420
      }
     },
     "output_type": "display_data"
    }
   ],
   "source": [
    "hist(snowfall)"
   ]
  },
  {
   "cell_type": "code",
   "execution_count": 7,
   "metadata": {},
   "outputs": [
    {
     "name": "stdout",
     "output_type": "stream",
     "text": [
      "[1] 0.9603965\n"
     ]
    },
    {
     "data": {
      "text/html": [
       "40.5868215743196"
      ],
      "text/latex": [
       "40.5868215743196"
      ],
      "text/markdown": [
       "40.5868215743196"
      ],
      "text/plain": [
       "[1] 40.58682"
      ]
     },
     "metadata": {},
     "output_type": "display_data"
    },
    {
     "data": {
      "text/html": [
       "0.925586079368469"
      ],
      "text/latex": [
       "0.925586079368469"
      ],
      "text/markdown": [
       "0.925586079368469"
      ],
      "text/plain": [
       "[1] 0.9255861"
      ]
     },
     "metadata": {},
     "output_type": "display_data"
    },
    {
     "name": "stdout",
     "output_type": "stream",
     "text": [
      "[1] 45.28333\n"
     ]
    }
   ],
   "source": [
    "n = length(snowfall);\n",
    "sigma  =  10  # standard deviation \n",
    "m0 =  40   # posterior mean\n",
    "s0 = 1.02041  #standard deviation\n",
    "prior.precision = 1/s0^2; \n",
    "print(prior.precision)\n",
    "post.precision = prior.precision + (n/sigma^2)\n",
    "post.sd = sqrt(1/post.precision)\n",
    "post.mean = (prior.precision/post.precision * m0) + ((n/sigma^2)/post.precision * mean(snowfall))\n",
    "post.mean\n",
    "(post.sd)^2\n",
    "print(mean(snowfall))"
   ]
  },
  {
   "cell_type": "code",
   "execution_count": 13,
   "metadata": {},
   "outputs": [
    {
     "data": {
      "image/png": "[encoded data removed]",
      "text/plain": [
       "Plot with title \"\""
      ]
     },
     "metadata": {
      "image/png": {
       "height": 420,
       "width": 420
      }
     },
     "output_type": "display_data"
    }
   ],
   "source": [
    "prior_samples = rnorm(100000, m0, s0)\n",
    "posterior_samples = rnorm(100000, post.mean, post.sd)\n",
    "plot(density(prior_samples), col=\"red\", lwd=2, main=\"\", xlim=c(35, 46), ylim=c(0,.5))\n",
    "lines((density(posterior_samples)), col=\"blue\", lwd=3)\n",
    " legend(\"topleft\",c(\"Prior\",\"Posterior\"), lwd=c(2,3),col=c(\"red\", \"blue\"),inset=0.05)"
   ]
  },
  {
   "cell_type": "markdown",
   "metadata": {},
   "source": [
    "4) Compute the 10% and 90% quantiles of the posterior distribution. "
   ]
  },
  {
   "cell_type": "code",
   "execution_count": 11,
   "metadata": {},
   "outputs": [
    {
     "data": {
      "text/html": [
       "<style>\n",
       ".list-inline {list-style: none; margin:0; padding: 0}\n",
       ".list-inline>li {display: inline-block}\n",
       ".list-inline>li:not(:last-child)::after {content: \"\\00b7\"; padding: 0 .5ex}\n",
       "</style>\n",
       "<ol class=list-inline><li>39.3538743346643</li><li>41.8197688139749</li></ol>\n"
      ],
      "text/latex": [
       "\\begin{enumerate*}\n",
       "\\item 39.3538743346643\n",
       "\\item 41.8197688139749\n",
       "\\end{enumerate*}\n"
      ],
      "text/markdown": [
       "1. 39.3538743346643\n",
       "2. 41.8197688139749\n",
       "\n",
       "\n"
      ],
      "text/plain": [
       "[1] 39.35387 41.81977"
      ]
     },
     "metadata": {},
     "output_type": "display_data"
    }
   ],
   "source": [
    "qnorm(c(0.1,0.90),post.mean,post.sd) "
   ]
  },
  {
   "cell_type": "markdown",
   "metadata": {},
   "source": [
    "5) For reporting needs, instead of computing the posterior mean of $\\mu$ you are asked to compute the posterior mean of $g(\\mu) = log(\\mu)$. How do you do this?\n",
    "\n",
    "I would use Monte Carlo integration. The reason is because we want to compute $E(g(\\mu) | x) = \\int g(\\mu) p(\\mu | x) d\\mu$ but this will not be easy otherwise. "
   ]
  },
  {
   "cell_type": "markdown",
   "metadata": {},
   "source": [
    "**Problem 2**"
   ]
  },
  {
   "cell_type": "markdown",
   "metadata": {},
   "source": [
    "1) Posterior of $\\lambda$ for the Poisson/gamma model:\n",
    "\n",
    "$Gamma(\\sum y_i + a, n + b)$"
   ]
  },
  {
   "cell_type": "code",
   "execution_count": 15,
   "metadata": {},
   "outputs": [
    {
     "name": "stdout",
     "output_type": "stream",
     "text": [
      "\n",
      "  The decimal point is at the |\n",
      "\n",
      "   0 | 000000000000000000000000000000\n",
      "   1 | 000000000000\n",
      "   2 | 000000\n",
      "   3 | \n",
      "   4 | \n",
      "   5 | \n",
      "   6 | \n",
      "   7 | \n",
      "   8 | \n",
      "   9 | \n",
      "  10 | 00\n",
      "\n"
     ]
    }
   ],
   "source": [
    "patient_data = c(0,0,0,0,0,0,0,0,0,0,0,0,0,0,0,0,0,0,0,0,0,0,0,0,0,0,0,0,0,0,1,1,1,1,1,1,1,1,1,1,1,1,2,2,2,2,2,2,10,10)\n",
    "stem(patient_data, scale = 2)"
   ]
  },
  {
   "cell_type": "markdown",
   "metadata": {},
   "source": [
    "2) Use the Poisson/Gamma model with a = b = .01 to study the rate of adverse events. Repeat with Gamma(.1, .1) and Gamma(1,1) and discuss the sensitivity. \n",
    "\n",
    "Overall, the results seem very insensitive to the choice of a and b for the prior. The posterior mean is still really close .88 for the parameter choices .01, .1, and 1. "
   ]
  },
  {
   "cell_type": "code",
   "execution_count": 19,
   "metadata": {},
   "outputs": [
    {
     "name": "stdout",
     "output_type": "stream",
     "text": [
      "[1] 0.88\n"
     ]
    }
   ],
   "source": [
    "alpha = .01\n",
    "beta = .01\n",
    "sum = sum(patient_data)\n",
    "n = 50\n",
    "print(mean(patient_data))"
   ]
  },
  {
   "cell_type": "code",
   "execution_count": 99,
   "metadata": {},
   "outputs": [
    {
     "data": {
      "image/png": "[encoded data removed]",
      "text/plain": [
       "plot without title"
      ]
     },
     "metadata": {
      "image/png": {
       "height": 420,
       "width": 420
      }
     },
     "output_type": "display_data"
    }
   ],
   "source": [
    "lambda = seq(0,2, by = 0.01) \n",
    "plot(lambda, dgamma(lambda, alpha, rate = beta), type = 'l', lwd = 2, col = 'blue',ylim = c(0, 3.2), xlab = 'lambda', \n",
    "     ylab = 'P(lambda | Y')\n",
    "lines(lambda, dgamma(lambda, alpha + sum, rate = beta + n), type = 'l', lwd = 2, col = 'red')"
   ]
  },
  {
   "cell_type": "code",
   "execution_count": 9,
   "metadata": {},
   "outputs": [
    {
     "name": "stdout",
     "output_type": "stream",
     "text": [
      "[1] 0.880024\n"
     ]
    }
   ],
   "source": [
    "#posterior mean\n",
    "post_mean = (alpha + sum)/(beta + n)\n",
    "print(post_mean)"
   ]
  },
  {
   "cell_type": "code",
   "execution_count": 10,
   "metadata": {},
   "outputs": [
    {
     "data": {
      "text/html": [
       "<style>\n",
       ".list-inline {list-style: none; margin:0; padding: 0}\n",
       ".list-inline>li {display: inline-block}\n",
       ".list-inline>li:not(:last-child)::after {content: \"\\00b7\"; padding: 0 .5ex}\n",
       "</style>\n",
       "<ol class=list-inline><li>0.639451859958192</li><li>1.15841228488042</li></ol>\n"
      ],
      "text/latex": [
       "\\begin{enumerate*}\n",
       "\\item 0.639451859958192\n",
       "\\item 1.15841228488042\n",
       "\\end{enumerate*}\n"
      ],
      "text/markdown": [
       "1. 0.639451859958192\n",
       "2. 1.15841228488042\n",
       "\n",
       "\n"
      ],
      "text/plain": [
       "[1] 0.6394519 1.1584123"
      ]
     },
     "metadata": {},
     "output_type": "display_data"
    }
   ],
   "source": [
    "#95% credible interval \n",
    "qgamma(c(0.025, .975),  alpha + sum , beta + n)"
   ]
  },
  {
   "cell_type": "code",
   "execution_count": 100,
   "metadata": {},
   "outputs": [
    {
     "name": "stdout",
     "output_type": "stream",
     "text": [
      "[1] 0.8802395\n"
     ]
    },
    {
     "data": {
      "text/html": [
       "<style>\n",
       ".list-inline {list-style: none; margin:0; padding: 0}\n",
       ".list-inline>li {display: inline-block}\n",
       ".list-inline>li:not(:last-child)::after {content: \"\\00b7\"; padding: 0 .5ex}\n",
       "</style>\n",
       "<ol class=list-inline><li>0.639833862751212</li><li>1.15839352851292</li></ol>\n"
      ],
      "text/latex": [
       "\\begin{enumerate*}\n",
       "\\item 0.639833862751212\n",
       "\\item 1.15839352851292\n",
       "\\end{enumerate*}\n"
      ],
      "text/markdown": [
       "1. 0.639833862751212\n",
       "2. 1.15839352851292\n",
       "\n",
       "\n"
      ],
      "text/plain": [
       "[1] 0.6398339 1.1583935"
      ]
     },
     "metadata": {},
     "output_type": "display_data"
    },
    {
     "data": {
      "image/png": "[encoded data removed]",
      "text/plain": [
       "plot without title"
      ]
     },
     "metadata": {
      "image/png": {
       "height": 420,
       "width": 420
      }
     },
     "output_type": "display_data"
    }
   ],
   "source": [
    "#repeat with Gamma(.1,.1) and Gamma(1,1)\n",
    "alpha = .1\n",
    "beta = .1\n",
    "sum = sum(patient_data)\n",
    "n = 50\n",
    "post_mean = (alpha + sum)/(beta + n)\n",
    "print(post_mean)\n",
    "qgamma(c(0.025, .975),  alpha + sum , beta + n) \n",
    "lambda = seq(0,2, by = 0.01) \n",
    "plot(lambda, dgamma(lambda, alpha, rate = beta), type = 'l', lwd = 2, col = 'blue',ylim = c(0, 3.2), xlab = 'lambda', \n",
    "     ylab = 'P(lambda | Y')\n",
    "lines(lambda, dgamma(lambda, alpha + sum, beta + n), type = 'l', lwd = 2, col = 'red')"
   ]
  },
  {
   "cell_type": "code",
   "execution_count": 89,
   "metadata": {},
   "outputs": [
    {
     "name": "stdout",
     "output_type": "stream",
     "text": [
      "[1] 0.88\n",
      "[1] 0.8823529\n"
     ]
    },
    {
     "data": {
      "text/html": [
       "<style>\n",
       ".list-inline {list-style: none; margin:0; padding: 0}\n",
       ".list-inline>li {display: inline-block}\n",
       ".list-inline>li:not(:last-child)::after {content: \"\\00b7\"; padding: 0 .5ex}\n",
       "</style>\n",
       "<ol class=list-inline><li>0.643594289965382</li><li>1.15819502510407</li></ol>\n"
      ],
      "text/latex": [
       "\\begin{enumerate*}\n",
       "\\item 0.643594289965382\n",
       "\\item 1.15819502510407\n",
       "\\end{enumerate*}\n"
      ],
      "text/markdown": [
       "1. 0.643594289965382\n",
       "2. 1.15819502510407\n",
       "\n",
       "\n"
      ],
      "text/plain": [
       "[1] 0.6435943 1.1581950"
      ]
     },
     "metadata": {},
     "output_type": "display_data"
    },
    {
     "name": "stdout",
     "output_type": "stream",
     "text": [
      "[1] 45\n",
      "[1] 51\n"
     ]
    },
    {
     "data": {
      "image/png": "[encoded data removed]",
      "text/plain": [
       "plot without title"
      ]
     },
     "metadata": {
      "image/png": {
       "height": 420,
       "width": 420
      }
     },
     "output_type": "display_data"
    }
   ],
   "source": [
    "alpha = 1\n",
    "beta = 1\n",
    "sum = sum(patient_data)\n",
    "n = 50\n",
    "print(mean(patient_data))\n",
    "lambda = seq(0,2, by = 0.01) \n",
    "plot(lambda, dgamma(lambda, alpha, beta), type = 'l', lwd = 2, col = 'blue',ylim = c(0, 3.2), xlab = 'lambda', \n",
    "     ylab = 'P(lambda | Y')\n",
    "lines(lambda, dgamma(lambda, alpha + sum,  beta + n), type = 'l', lwd = 2, col = 'red')\n",
    "post_mean = (alpha + sum)/(beta + n)\n",
    "print(post_mean)\n",
    "qgamma(c(0.025, .975),  alpha + sum , beta + n)\n",
    "print(alpha + sum)\n",
    "print(beta + n)"
   ]
  },
  {
   "cell_type": "markdown",
   "metadata": {},
   "source": [
    "4) Plot the data versus the Poisson($\\hat{\\lambda}$), where $\\hat{\\lambda}$ is the posterior mean of $\\lambda$ from part 2. Does the Poisson likelihood fit the data well?"
   ]
  },
  {
   "cell_type": "code",
   "execution_count": 52,
   "metadata": {},
   "outputs": [
    {
     "name": "stdout",
     "output_type": "stream",
     "text": [
      "[1] 0.880024\n"
     ]
    },
    {
     "data": {
      "image/png": "[encoded data removed]",
      "text/plain": [
       "plot without title"
      ]
     },
     "metadata": {
      "image/png": {
       "height": 420,
       "width": 420
      }
     },
     "output_type": "display_data"
    }
   ],
   "source": [
    "post_mean = (.01 + sum(patient_data))/(.01 + 50)\n",
    "print(post_mean)\n",
    "plot(0:10, dpois(0:10, lambda=post_mean), type='p', col = 'blue', ylim = c(0, .8), pch = 19)\n",
    "x = c(0, 1, 2, 10)\n",
    "y = c(30/50, 12/50, 6/50, 2/50)\n",
    "points(x, y, col = 'red', pch = 19)"
   ]
  },
  {
   "cell_type": "markdown",
   "metadata": {},
   "source": [
    "I don't think Poisson is nessecarily a great fit. For example, at x = 0, it's the difference between .6 and .4. Likewise, over at x = 10, in the actual data there is an upspike the is impossible to account for using a Poisson distribution. I think it might be considered a better fit if the minority of patients with 10 adverse effects are removed from the dataset but I'm not sure that it makes sense to do that. "
   ]
  },
  {
   "cell_type": "markdown",
   "metadata": {},
   "source": [
    "5) The current medication is thought to have around one adverse side effect per year. What is the posterior probability that this new medication has a higher side effect rate than the previous medication? Are the results sensitive to the prior?\n",
    "\n",
    "No: the results are not sensitive to the prior. We should have around an 18 percent chance that the new medication is worse. "
   ]
  },
  {
   "cell_type": "code",
   "execution_count": 101,
   "metadata": {},
   "outputs": [
    {
     "data": {
      "text/html": [
       "0.182284377495226"
      ],
      "text/latex": [
       "0.182284377495226"
      ],
      "text/markdown": [
       "0.182284377495226"
      ],
      "text/plain": [
       "[1] 0.1822844"
      ]
     },
     "metadata": {},
     "output_type": "display_data"
    },
    {
     "data": {
      "text/html": [
       "0.180047925524094"
      ],
      "text/latex": [
       "0.180047925524094"
      ],
      "text/markdown": [
       "0.180047925524094"
      ],
      "text/plain": [
       "[1] 0.1800479"
      ]
     },
     "metadata": {},
     "output_type": "display_data"
    },
    {
     "data": {
      "text/html": [
       "0.179821771991442"
      ],
      "text/latex": [
       "0.179821771991442"
      ],
      "text/markdown": [
       "0.179821771991442"
      ],
      "text/plain": [
       "[1] 0.1798218"
      ]
     },
     "metadata": {},
     "output_type": "display_data"
    }
   ],
   "source": [
    "alpha = 1\n",
    "beta = 1\n",
    "1 - pgamma(1 , shape = alpha + sum , rate = beta + n , lower.tail =TRUE )\n",
    "\n",
    "alpha = .1\n",
    "beta = .1\n",
    "1 - pgamma(1 , shape = alpha + sum , rate = beta + n , lower.tail =TRUE )\n",
    "\n",
    "alpha = .01\n",
    "beta = .01\n",
    "1 - pgamma(1 , shape = alpha + sum , rate = beta + n , lower.tail =TRUE )"
   ]
  },
  {
   "cell_type": "markdown",
   "metadata": {},
   "source": [
    "**Problem 3**"
   ]
  },
  {
   "cell_type": "markdown",
   "metadata": {},
   "source": [
    "Over last 50 years $\\lambda_0$ = 75 wildfires per year. \n",
    "For next 10 years record number of fires and fit Poisson/Gamma model to the data. \n",
    "\n",
    "Prior: $\\lambda$ ~ Gamma(a,b)\n",
    "Select a and b so the prior is uninformative (i.e. has prior variance around 100, and $P(\\lambda > \\lambda_0) = .5$.)"
   ]
  },
  {
   "cell_type": "code",
   "execution_count": 75,
   "metadata": {},
   "outputs": [],
   "source": [
    "A <- seq(0.1,100, by = 0.05) \n",
    "b = c()\n",
    "for(a in A) {\n",
    "    b = c(b, sqrt(a/100))\n",
    "}"
   ]
  },
  {
   "cell_type": "code",
   "execution_count": 104,
   "metadata": {},
   "outputs": [],
   "source": [
    "length = length(A)\n",
    "for(i in 1:length){\n",
    "    #print(i)\n",
    "    #print(1 - pgamma(75,shape = A[i], rate = b[i], lower.tail = TRUE))\n",
    "}"
   ]
  },
  {
   "cell_type": "code",
   "execution_count": 105,
   "metadata": {},
   "outputs": [
    {
     "name": "stdout",
     "output_type": "stream",
     "text": [
      "[1] 56.95\n",
      "[1] 0.7546522\n"
     ]
    }
   ],
   "source": [
    "print(A[1138])\n",
    "print(b[1138])"
   ]
  },
  {
   "cell_type": "markdown",
   "metadata": {},
   "source": [
    "To the grader: I commented out the above lines purely because I don't want to extend the length of the my PDF submission by a ton. But what I did was just look for the index where the probability was closest to .5. Although something better probably could have done it was easy to just scan through the list by eye. This index was 1138, which corresponds to $\\alpha = 56.95, \\beta = .7547$. "
   ]
  },
  {
   "cell_type": "code",
   "execution_count": 108,
   "metadata": {},
   "outputs": [
    {
     "data": {
      "image/png": "[encoded data removed]",
      "text/plain": [
       "plot without title"
      ]
     },
     "metadata": {
      "image/png": {
       "height": 420,
       "width": 420
      }
     },
     "output_type": "display_data"
    }
   ],
   "source": [
    "lambda = seq(40,120, by = 0.1)\n",
    "plot(lambda, dgamma(lambda, 56.95,  rate = .7546), type = 'l', lwd = 2, col = 'blue',ylim = c(0, .045))"
   ]
  },
  {
   "cell_type": "code",
   "execution_count": null,
   "metadata": {},
   "outputs": [],
   "source": []
  }
 ],
 "metadata": {
  "kernelspec": {
   "display_name": "R",
   "language": "R",
   "name": "ir"
  },
  "language_info": {
   "codemirror_mode": "r",
   "file_extension": ".r",
   "mimetype": "text/x-r-source",
   "name": "R",
   "pygments_lexer": "r",
   "version": "4.0.2"
  }
 },
 "nbformat": 4,
 "nbformat_minor": 4
}
